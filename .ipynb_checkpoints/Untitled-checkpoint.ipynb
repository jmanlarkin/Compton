{
 "cells": [
  {
   "cell_type": "code",
   "execution_count": 2,
   "id": "752d9809-fa36-443b-afe4-f579523a4d6e",
   "metadata": {},
   "outputs": [],
   "source": [
    "import numpy as np\n",
    "import matplotlib.pyplot as plt\n",
    "%matplotlib inline\n",
    "import pandas as pd\n",
    "import spinmob as sm\n",
    "import mcphysics as mphys\n",
    "from scipy.optimize import curve_fit"
   ]
  },
  {
   "cell_type": "markdown",
   "id": "51711581-6f37-4ea4-80ad-2408ed472571",
   "metadata": {},
   "source": [
    "## Calibration"
   ]
  },
  {
   "cell_type": "code",
   "execution_count": 81,
   "id": "8e207ebc-0e9e-410c-bad0-cd0724a8c271",
   "metadata": {},
   "outputs": [
    {
     "name": "stdout",
     "output_type": "stream",
     "text": [
      "[1741.99297105   62.2231013     7.8798864 ]\n",
      "[9.01517076 9.01517076 0.9877784 ]\n",
      "42.84424725147944\n"
     ]
    }
   ],
   "source": [
    "def Gaussian(x, m, o, C):\n",
    "    return C*np.exp(-0.5*(((x-m)/o)**2))\n",
    "\n",
    "def Chi(x, u, o):\n",
    "#    return np.sum(((x-u)**2)/o**2)\n",
    "    summation = 0\n",
    "    i = 0\n",
    "    while i<len(x):\n",
    "        if(o[i] != 0):\n",
    "            summation += ((x[i]-u[i])**2)/o[i]**2\n",
    "            i += 1\n",
    "        else:\n",
    "            i += 1\n",
    "    return summation\n",
    "\n",
    "xData = mphys.data.load_chn('Cs-137 Calibration 000.chn')[0]\n",
    "databox = [None]*10\n",
    "i=0\n",
    "\n",
    "while i <= 9:\n",
    "    databox[i] = mphys.data.load_chn('Cs-137 Calibration 00' + str(i) + '.chn')[1]\n",
    "    i += 1\n",
    "    \n",
    "callibrationData = [xData, np.average(databox, axis=0), np.std(databox, axis=0, ddof=1),\n",
    "                    np.std(databox, axis=0, ddof=1)/np.sqrt(10)]\n",
    "\n",
    "fitParam, fitCov = curve_fit(Gaussian, callibrationData[0], callibrationData[1], \n",
    "                              p0=[1700, 20, 50])\n",
    "print(fitParam), print(np.sqrt(np.diag(fitCov)))\n",
    "\n",
    "chisq = Chi(callibrationData[1][1642:1842], Gaussian(callibrationData[0][1642:1842], *fitParam), \n",
    "            callibrationData[3][1642:1842])/7\n",
    "\n",
    "print(chisq)\n",
    "\n",
    "residuals = (callibrationData[1]-Gaussian(callibrationData[0], *fitParam))/callibrationData[3]\n",
    "\n",
    "#plt.scatter(callibrationData[0], callibrationData[1])\n",
    "#plt.plot(callibrationData[0], Gaussian(callibrationData[0], *fitParam), color='green')\n",
    "#plt.errorbar(callibrationData[0], callibrationData[1], yerr=callibrationData[3])\n",
    "\n",
    "fig, ax = plt.subplots(2, 1, sharey='row', tight_layout = True, gridspec_kw={'height_ratios':[4,1]}, figsize=(15,7))\n",
    "\n",
    "ax[0].plot(callibrationData[0][1542:1942], Gaussian(callibrationData[0][1542:1942], *fitParam),\n",
    "           label='Gaussian Fit', color='darkred', linewidth=3)\n",
    "ax[0].errorbar(callibrationData[0][1542:1942], callibrationData[1][1542:1942], fmt='o',\n",
    "               yerr=callibrationData[3][1542:1942], label='Data', color='darkseagreen')\n",
    "ax[1].errorbar(callibrationData[0][1542:1942], residuals[1542:1942], \n",
    "               fmt='o', yerr=callibrationData[3][1542:1942], color='darkseagreen')\n",
    "\n",
    "ax[1].set_xlabel('Channel Number')\n",
    "ax[1].set_ylabel('Studentized Residuals')\n",
    "ax[0].set_ylabel('Counts')\n",
    "ax[0].legend(loc='upper right', prop={'size':16})\n",
    "\n",
    "plt.tight_layout()"
   ]
  },
  {
   "cell_type": "code",
   "execution_count": 86,
   "id": "6724ec7d-2a2f-4f0a-b5db-fac4871158bb",
   "metadata": {},
   "outputs": [
    {
     "data": {
      "text/plain": [
       "Text(89.25, 0.5, 'Counts')"
      ]
     },
     "execution_count": 86,
     "metadata": {},
     "output_type": "execute_result"
    }
   ],
   "source": [
    "plt.errorbar(callibrationData[0], callibrationData[1], fmt='o',\n",
    "               yerr=callibrationData[3], label='Data', color='darkseagreen', ms=2, markeredgecolor='darkseagreen')\n",
    "plt.xlabel('Channel Number')\n",
    "plt.ylabel('Counts')"
   ]
  },
  {
   "cell_type": "code",
   "execution_count": 83,
   "id": "b5439c64-a2d4-4002-bf25-169441f6b11e",
   "metadata": {},
   "outputs": [
    {
     "name": "stdout",
     "output_type": "stream",
     "text": [
      "2048\n"
     ]
    }
   ],
   "source": []
  },
  {
   "cell_type": "code",
   "execution_count": null,
   "id": "99e0f154-2c6a-4297-a4b1-c752ab46dd45",
   "metadata": {},
   "outputs": [],
   "source": []
  }
 ],
 "metadata": {
  "kernelspec": {
   "display_name": "Python 3 (ipykernel)",
   "language": "python",
   "name": "python3"
  },
  "language_info": {
   "codemirror_mode": {
    "name": "ipython",
    "version": 3
   },
   "file_extension": ".py",
   "mimetype": "text/x-python",
   "name": "python",
   "nbconvert_exporter": "python",
   "pygments_lexer": "ipython3",
   "version": "3.9.7"
  }
 },
 "nbformat": 4,
 "nbformat_minor": 5
}
