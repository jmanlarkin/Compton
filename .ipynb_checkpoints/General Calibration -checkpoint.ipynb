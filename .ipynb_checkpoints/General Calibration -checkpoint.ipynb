{
 "cells": [
  {
   "cell_type": "code",
   "execution_count": 1,
   "id": "379242a0-adfc-4e29-8213-db7434d1a041",
   "metadata": {},
   "outputs": [],
   "source": [
    "import numpy as np\n",
    "import matplotlib.pyplot as plt\n",
    "%matplotlib inline\n",
    "import pandas as pd\n",
    "import spinmob as sm\n",
    "import mcphysics as mphys\n",
    "from scipy.optimize import curve_fit"
   ]
  },
  {
   "cell_type": "code",
   "execution_count": 8,
   "id": "d8ee3f29-ab99-42b1-a470-6d48b2860b0d",
   "metadata": {},
   "outputs": [
    {
     "name": "stdout",
     "output_type": "stream",
     "text": [
      "[ 1.75599063e+03  5.54769243e+01  7.83554284e+00 -1.39279594e-03\n",
      "  2.90103639e+00]\n",
      "[5.36549457e-01 5.96827790e-01 6.67342209e-02 1.25670423e-04\n",
      " 2.19072616e-01]\n",
      "[8.24071925e+02 2.15473207e+01 3.86914557e+00 6.57842544e-03\n",
      " 3.58149933e+00]\n",
      "[8.29831303e+00 8.61019989e+00 1.30361528e+00 1.53753590e-03\n",
      " 1.34799364e+00]\n",
      "[ 3.56394332e+02  1.71418205e+01  1.53374799e+03 -1.86491484e-01\n",
      "  1.31335149e+02]\n",
      "[ 0.18556096  0.19090013 14.50811345  0.0152676   6.44003842]\n",
      "[ 1.37217262e+03  4.79798825e+01  1.70960744e+01 -2.22264795e-03\n",
      "  4.49784647e+00]\n",
      "[3.15886329e-01 3.45234507e-01 9.92005392e-02 1.73338703e-04\n",
      " 2.37198887e-01]\n"
     ]
    },
    {
     "data": {
      "text/plain": [
       "<matplotlib.collections.PathCollection at 0x7fe7e013f430>"
      ]
     },
     "execution_count": 8,
     "metadata": {},
     "output_type": "execute_result"
    }
   ],
   "source": [
    "def Gaussian(x, m, o, A, B, C):\n",
    "    return A*np.exp(-0.5*(((x-m)/o)**2)) + B*x + C\n",
    "\n",
    "def Linear(x, a, b):\n",
    "    return a*x+b\n",
    "\n",
    "def Data(angle, number, source):\n",
    "    xData = mphys.data.load_chn('Cs-137 Calibration 000.chn')[0]\n",
    "    databox = [None]*10\n",
    "    i=0\n",
    "    while i <= 9:\n",
    "        databox[i] = mphys.data.load_chn('Compton/Angles/' + angle + '/' + number + ' Other Sources/' + source + \n",
    "                                         '/' + source + ' 00' + str(i) + '.Chn')[1]\n",
    "        i += 1\n",
    "    return [xData, np.average(databox, axis=0), np.std(databox, axis=0, ddof=1),\n",
    "                    np.std(databox, axis=0, ddof=1)/np.sqrt(10)]\n",
    "\n",
    "def Fit(input_databox, interval, guess):\n",
    "    param, cov = curve_fit(Gaussian, input_databox[0][guess-interval:guess+interval], \n",
    "                           input_databox[1][guess-interval:guess+interval], p0=[guess, 10, 10, 10, 10])\n",
    "    error = np.sqrt(np.diag(cov))\n",
    "    print(param), print(error)\n",
    "    return [param, error]\n",
    "\n",
    "#plt.scatter(Data('220', '00', 'Cs-137')[0], Data('220', '00', 'Cs-137')[1], color='green')\n",
    "#plt.scatter(Data('220', '04', 'Cs-137')[0], Data('220', '04', 'Cs-137')[1], color='blue')\n",
    "\n",
    "xData = mphys.data.load_chn('Cs-137 Calibration 000.chn')[0]\n",
    "\n",
    "Cs_220_00 = Fit(Data('220', '00', 'Cs-137'), 300, 1742)\n",
    "Ba_220_00 = Fit(Data('220', '00', 'Ba-133'), 300, 850)\n",
    "Co_220_00 = Fit(Data('220', '00', 'Co-57'), 300, 375)\n",
    "Na_220_00 = Fit(Data('220', '00', 'Na-22'), 300, 1360)\n",
    "\n",
    "firstCallibration = curve_fit(Linear, [Cs_220_00[0][0], Ba_220_00[0][0], Co_220_00[0][0], Na_220_00[0][0]], \n",
    "                              [662.1, 80, 122, 511.0], \n",
    "                              sigma = [Cs_220_00[1][0], Ba_220_00[1][0], Co_220_00[1][0], Na_220_00[1][0]])\n",
    "\n",
    "plt.plot(xData, Linear(xData, *firstCallibration[0]))\n",
    "plt.scatter([Cs_220_00[0][0], Ba_220_00[0][0], Co_220_00[0][0], Na_220_00[0][0]], [662.1, 80, 122, 511.0])"
   ]
  },
  {
   "cell_type": "code",
   "execution_count": null,
   "id": "5081e42e-44dc-4541-affa-9794301e718d",
   "metadata": {},
   "outputs": [],
   "source": []
  }
 ],
 "metadata": {
  "kernelspec": {
   "display_name": "Python 3 (ipykernel)",
   "language": "python",
   "name": "python3"
  },
  "language_info": {
   "codemirror_mode": {
    "name": "ipython",
    "version": 3
   },
   "file_extension": ".py",
   "mimetype": "text/x-python",
   "name": "python",
   "nbconvert_exporter": "python",
   "pygments_lexer": "ipython3",
   "version": "3.9.7"
  }
 },
 "nbformat": 4,
 "nbformat_minor": 5
}
