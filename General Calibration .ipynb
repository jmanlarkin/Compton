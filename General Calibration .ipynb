{
 "cells": [
  {
   "cell_type": "code",
   "execution_count": 1,
   "id": "379242a0-adfc-4e29-8213-db7434d1a041",
   "metadata": {},
   "outputs": [],
   "source": [
    "import numpy as np\n",
    "import matplotlib.pyplot as plt\n",
    "%matplotlib inline\n",
    "import pandas as pd\n",
    "import spinmob as sm\n",
    "import mcphysics as mphys\n",
    "from scipy.optimize import curve_fit"
   ]
  },
  {
   "cell_type": "code",
   "execution_count": 2,
   "id": "d8ee3f29-ab99-42b1-a470-6d48b2860b0d",
   "metadata": {},
   "outputs": [
    {
     "name": "stdout",
     "output_type": "stream",
     "text": [
      "[1754.01058028   60.77129231    8.11739977]\n",
      "[0.67181609 0.6718161  0.07771525]\n",
      "[924.23103882 132.62853427  16.63515431]\n",
      "[3.97886748 4.2945523  0.42463696]\n",
      "[ 356.33098779   18.41589656 1569.84045664]\n",
      "[ 0.26477331  0.26477331 19.54572727]\n",
      "[1370.87170884   54.68385266   17.99606295]\n",
      "[0.59873027 0.59873027 0.17063644]\n"
     ]
    },
    {
     "ename": "NameError",
     "evalue": "name 'xData' is not defined",
     "output_type": "error",
     "traceback": [
      "\u001b[0;31m---------------------------------------------------------------------------\u001b[0m",
      "\u001b[0;31mNameError\u001b[0m                                 Traceback (most recent call last)",
      "\u001b[0;32m/var/folders/bm/j5pxyqnj5dq28k2jcxxwlzpr0000gn/T/ipykernel_34455/2935669232.py\u001b[0m in \u001b[0;36m<module>\u001b[0;34m\u001b[0m\n\u001b[1;32m     35\u001b[0m                               sigma = [Cs_220_00[1][0], Ba_220_00[1][0], Co_220_00[1][0], Na_220_00[1][0]])\n\u001b[1;32m     36\u001b[0m \u001b[0;34m\u001b[0m\u001b[0m\n\u001b[0;32m---> 37\u001b[0;31m \u001b[0mplt\u001b[0m\u001b[0;34m.\u001b[0m\u001b[0mplot\u001b[0m\u001b[0;34m(\u001b[0m\u001b[0mxData\u001b[0m\u001b[0;34m,\u001b[0m \u001b[0mLinear\u001b[0m\u001b[0;34m(\u001b[0m\u001b[0mxData\u001b[0m\u001b[0;34m,\u001b[0m \u001b[0;34m*\u001b[0m\u001b[0mfirstCallibration\u001b[0m\u001b[0;34m[\u001b[0m\u001b[0;36m0\u001b[0m\u001b[0;34m]\u001b[0m\u001b[0;34m)\u001b[0m\u001b[0;34m)\u001b[0m\u001b[0;34m\u001b[0m\u001b[0;34m\u001b[0m\u001b[0m\n\u001b[0m\u001b[1;32m     38\u001b[0m \u001b[0mplt\u001b[0m\u001b[0;34m.\u001b[0m\u001b[0mscatter\u001b[0m\u001b[0;34m(\u001b[0m\u001b[0;34m[\u001b[0m\u001b[0mCs_220_00\u001b[0m\u001b[0;34m[\u001b[0m\u001b[0;36m0\u001b[0m\u001b[0;34m]\u001b[0m\u001b[0;34m[\u001b[0m\u001b[0;36m0\u001b[0m\u001b[0;34m]\u001b[0m\u001b[0;34m,\u001b[0m \u001b[0mBa_220_00\u001b[0m\u001b[0;34m[\u001b[0m\u001b[0;36m0\u001b[0m\u001b[0;34m]\u001b[0m\u001b[0;34m[\u001b[0m\u001b[0;36m0\u001b[0m\u001b[0;34m]\u001b[0m\u001b[0;34m,\u001b[0m \u001b[0mCo_220_00\u001b[0m\u001b[0;34m[\u001b[0m\u001b[0;36m0\u001b[0m\u001b[0;34m]\u001b[0m\u001b[0;34m[\u001b[0m\u001b[0;36m0\u001b[0m\u001b[0;34m]\u001b[0m\u001b[0;34m,\u001b[0m \u001b[0mNa_220_00\u001b[0m\u001b[0;34m[\u001b[0m\u001b[0;36m0\u001b[0m\u001b[0;34m]\u001b[0m\u001b[0;34m[\u001b[0m\u001b[0;36m0\u001b[0m\u001b[0;34m]\u001b[0m\u001b[0;34m]\u001b[0m\u001b[0;34m,\u001b[0m \u001b[0;34m[\u001b[0m\u001b[0;36m662.1\u001b[0m\u001b[0;34m,\u001b[0m \u001b[0;36m80\u001b[0m\u001b[0;34m,\u001b[0m \u001b[0;36m122\u001b[0m\u001b[0;34m,\u001b[0m \u001b[0;36m1274\u001b[0m\u001b[0;34m]\u001b[0m\u001b[0;34m)\u001b[0m\u001b[0;34m\u001b[0m\u001b[0;34m\u001b[0m\u001b[0m\n",
      "\u001b[0;31mNameError\u001b[0m: name 'xData' is not defined"
     ]
    }
   ],
   "source": [
    "def Gaussian(x, m, o, C):\n",
    "    return C*np.exp(-0.5*(((x-m)/o)**2))\n",
    "\n",
    "def Linear(x, a, b):\n",
    "    return a*x+b\n",
    "\n",
    "def Data(angle, number, source):\n",
    "    xData = mphys.data.load_chn('Cs-137 Calibration 000.chn')[0]\n",
    "    databox = [None]*10\n",
    "    i=0\n",
    "    while i <= 9:\n",
    "        databox[i] = mphys.data.load_chn('Compton/Angles/' + angle + '/' + number + ' Other Sources/' + source + \n",
    "                                         '/' + source + ' 00' + str(i) + '.Chn')[1]\n",
    "        i += 1\n",
    "    return [xData, np.average(databox, axis=0), np.std(databox, axis=0, ddof=1),\n",
    "                    np.std(databox, axis=0, ddof=1)/np.sqrt(10)]\n",
    "\n",
    "def Fit(input_databox, interval, guess):\n",
    "    param, cov = curve_fit(Gaussian, input_databox[0][guess-interval:guess+interval], \n",
    "                           input_databox[1][guess-interval:guess+interval], p0=[guess, 10, 10])\n",
    "    error = np.sqrt(np.diag(cov))\n",
    "    print(param), print(error)\n",
    "    return [param, error]\n",
    "\n",
    "#plt.scatter(Data('220', '00', 'Cs-137')[0], Data('220', '00', 'Cs-137')[1], color='green')\n",
    "#plt.scatter(Data('220', '04', 'Cs-137')[0], Data('220', '04', 'Cs-137')[1], color='blue')\n",
    "\n",
    "Cs_220_00 = Fit(Data('220', '00', 'Cs-137'), 300, 1742)\n",
    "Ba_220_00 = Fit(Data('220', '00', 'Ba-133'), 300, 850)\n",
    "Co_220_00 = Fit(Data('220', '00', 'Co-57'), 300, 375)\n",
    "Na_220_00 = Fit(Data('220', '00', 'Na-22'), 300, 1360)\n",
    "\n",
    "firstCallibration = curve_fit(Linear, [Cs_220_00[0][0], Ba_220_00[0][0], Co_220_00[0][0], Na_220_00[0][0]], \n",
    "                              [662.1, 80, 122, 511.0], \n",
    "                              sigma = [Cs_220_00[1][0], Ba_220_00[1][0], Co_220_00[1][0], Na_220_00[1][0]])\n",
    "\n",
    "plt.plot(xData, Linear(xData, *firstCallibration[0]))\n",
    "plt.scatter([Cs_220_00[0][0], Ba_220_00[0][0], Co_220_00[0][0], Na_220_00[0][0]], [662.1, 80, 122, 1274])"
   ]
  },
  {
   "cell_type": "code",
   "execution_count": null,
   "id": "5081e42e-44dc-4541-affa-9794301e718d",
   "metadata": {},
   "outputs": [],
   "source": []
  }
 ],
 "metadata": {
  "kernelspec": {
   "display_name": "Python 3 (ipykernel)",
   "language": "python",
   "name": "python3"
  },
  "language_info": {
   "codemirror_mode": {
    "name": "ipython",
    "version": 3
   },
   "file_extension": ".py",
   "mimetype": "text/x-python",
   "name": "python",
   "nbconvert_exporter": "python",
   "pygments_lexer": "ipython3",
   "version": "3.9.7"
  }
 },
 "nbformat": 4,
 "nbformat_minor": 5
}
