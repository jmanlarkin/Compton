{
 "cells": [
  {
   "cell_type": "code",
   "execution_count": 1,
   "id": "6b01e9c0-cdff-41b9-87fe-16f990bb1534",
   "metadata": {},
   "outputs": [],
   "source": [
    "import numpy as np\n",
    "import matplotlib.pyplot as plt\n",
    "%matplotlib inline\n",
    "import pandas as pd\n",
    "import spinmob as sm\n",
    "import mcphysics as mphys\n",
    "from scipy.optimize import curve_fit"
   ]
  },
  {
   "cell_type": "code",
   "execution_count": 7,
   "id": "3ce314e9-2bf3-4f2d-b1b0-734a43d4592b",
   "metadata": {},
   "outputs": [
    {
     "data": {
      "text/plain": [
       "<matplotlib.collections.PathCollection at 0x7f8f9885dd00>"
      ]
     },
     "execution_count": 7,
     "metadata": {},
     "output_type": "execute_result"
    }
   ],
   "source": [
    "#Gaussian, where m=peak, o=variance, A=amplitude, B=Linear Coeff., C=Linear Offset\n",
    "def Gaussian(x, m, o, A, B, C):\n",
    "    return A*np.exp(-0.5*(((x-m)/o)**2)) + B*x + C\n",
    "\n",
    "#Curve fits a Gaussian to a given emitter's callibration data curve. The interval determines the width of data\n",
    "#which the Gaussian fits around. \n",
    "def Fit(input_databox, interval, guess):\n",
    "    xData = np.arange(0, 2048)\n",
    "    param, cov = curve_fit(Gaussian, xData[guess-interval:guess+interval], \n",
    "                           input_databox[guess-interval:guess+interval], p0=[guess, 10, 10, 10, 10])\n",
    "    error = np.sqrt(np.diag(cov))\n",
    "    print(param), print(error)\n",
    "    return [param, error]\n"
   ]
  },
  {
   "cell_type": "code",
   "execution_count": null,
   "id": "adadb38b-d758-4453-a3bf-a10572b59bb5",
   "metadata": {},
   "outputs": [],
   "source": []
  }
 ],
 "metadata": {
  "kernelspec": {
   "display_name": "Python 3 (ipykernel)",
   "language": "python",
   "name": "python3"
  },
  "language_info": {
   "codemirror_mode": {
    "name": "ipython",
    "version": 3
   },
   "file_extension": ".py",
   "mimetype": "text/x-python",
   "name": "python",
   "nbconvert_exporter": "python",
   "pygments_lexer": "ipython3",
   "version": "3.9.7"
  }
 },
 "nbformat": 4,
 "nbformat_minor": 5
}
