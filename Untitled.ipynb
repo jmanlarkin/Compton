{
 "cells": [
  {
   "cell_type": "code",
   "execution_count": 1,
   "id": "752d9809-fa36-443b-afe4-f579523a4d6e",
   "metadata": {},
   "outputs": [],
   "source": [
    "import numpy as np\n",
    "import matplotlib.pyplot as plt\n",
    "%matplotlib inline\n",
    "import pandas as pd\n",
    "import spinmob as sm\n",
    "import mcphysics as mphys\n",
    "from scipy.optimize import curve_fit"
   ]
  },
  {
   "cell_type": "markdown",
   "id": "51711581-6f37-4ea4-80ad-2408ed472571",
   "metadata": {},
   "source": [
    "## Calibration"
   ]
  },
  {
   "cell_type": "code",
   "execution_count": 22,
   "id": "3af04b74-4910-41c0-8a9d-f5a4779248f6",
   "metadata": {},
   "outputs": [],
   "source": [
    "def Gaussian(x, m, o, C):\n",
    "    return C*np.exp(-0.5*(((x-m)/o)**2))\n",
    "\n",
    "def Chi(x, u, o):\n",
    "#    return np.sum(((x-u)**2)/o**2)\n",
    "    summation = 0\n",
    "    i = 0\n",
    "    while i<len(x):\n",
    "        if(o[i] != 0):\n",
    "            summation += ((x[i]-u[i])**2)/o[i]**2\n",
    "            i += 1\n",
    "        else:\n",
    "            i += 1\n",
    "    return summation\n",
    "\n",
    "xData = mphys.data.load_chn('Cs-137 Calibration 000.chn')[0]\n",
    "databox = [None]*10\n",
    "i=0\n",
    "\n",
    "while i <= 9:\n",
    "    databox[i] = mphys.data.load_chn('Cs-137 Calibration 00' + str(i) + '.chn')[1]\n",
    "    i += 1\n",
    "    \n",
    "callibrationData = [xData, np.average(databox, axis=0), np.std(databox, axis=0, ddof=1),\n",
    "                    np.std(databox, axis=0, ddof=1)/np.sqrt(10)]\n",
    "\n",
    "fitParam, fitCov = curve_fit(Gaussian, callibrationData[0], callibrationData[1], \n",
    "                              p0=[1700, 20, 50])\n",
    "print(fitParam), print(np.sqrt(np.diag(fitCov)))\n",
    "\n",
    "chisq = Chi(callibrationData[1][1642:1842], Gaussian(callibrationData[0][1642:1842], *fitParam), \n",
    "            callibrationData[3][1642:1842])/7\n",
    "\n",
    "print(chisq)\n",
    "\n",
    "residuals = (callibrationData[1]-Gaussian(callibrationData[0], *fitParam))/callibrationData[3]\n",
    "\n",
    "#plt.scatter(callibrationData[0], callibrationData[1])\n",
    "#plt.plot(callibrationData[0], Gaussian(callibrationData[0], *fitParam), color='green')\n",
    "#plt.errorbar(callibrationData[0], callibrationData[1], yerr=callibrationData[3])\n",
    "\n",
    "fig, ax = plt.subplots(2, 1, sharey='row', tight_layout = True, gridspec_kw={'height_ratios':[4,1]}, figsize=(15,7))\n",
    "\n",
    "ax[0].plot(callibrationData[0][1542:1942], Gaussian(callibrationData[0][1542:1942], *fitParam),\n",
    "           label='Gaussian Fit', color='darkred', linewidth=3)\n",
    "ax[0].errorbar(callibrationData[0][1542:1942], callibrationData[1][1542:1942], fmt='o',\n",
    "               yerr=callibrationData[3][1542:1942], label='Data', color='darkseagreen')\n",
    "ax[1].errorbar(callibrationData[0][1542:1942], residuals[1542:1942], \n",
    "               fmt='o', yerr=callibrationData[3][1542:1942], color='darkseagreen')\n",
    "\n",
    "ax[1].set_xlabel('Channel Number')\n",
    "ax[1].set_ylabel('Studentized Residuals')\n",
    "ax[0].set_ylabel('Counts')\n",
    "ax[0].legend(loc='upper right', prop={'size':16})\n",
    "\n",
    "plt.tight_layout()"
   ]
  },
  {
   "cell_type": "code",
   "execution_count": 42,
   "id": "aca2c5f2-5681-4538-b2c5-dd2d8495d1d3",
   "metadata": {},
   "outputs": [
    {
     "name": "stdout",
     "output_type": "stream",
     "text": [
      "[1743.4609249    59.80060854    8.00896752]\n",
      "[0.85502782 1.03138408 0.09744112]\n",
      "40.43715042367614\n"
     ]
    }
   ],
   "source": [
    "def Gaussian(x, m, o, C):\n",
    "    return C*np.exp(-0.5*(((x-m)/o)**2))\n",
    "\n",
    "def Chi(x, u, o):\n",
    "#    return np.sum(((x-u)**2)/o**2)\n",
    "    summation = 0\n",
    "    i = 0\n",
    "    while i<len(x):\n",
    "        if(o[i] != 0):\n",
    "            summation += ((x[i]-u[i])**2)/o[i]**2\n",
    "            i += 1\n",
    "        else:\n",
    "            i += 1\n",
    "    return summation\n",
    "\n",
    "xData = mphys.data.load_chn('Cs-137 Calibration 000.chn')[0]\n",
    "databox = [None]*10\n",
    "i=0\n",
    "\n",
    "while i <= 9:\n",
    "    databox[i] = mphys.data.load_chn('Cs-137 Calibration 00' + str(i) + '.chn')[1]\n",
    "    i += 1\n",
    "    \n",
    "callibrationData = [xData, np.average(databox, axis=0), np.std(databox, axis=0, ddof=1),\n",
    "                    np.std(databox, axis=0, ddof=1)/np.sqrt(10)]\n",
    "\n",
    "fitParam, fitCov = curve_fit(Gaussian, callibrationData[0][1642:1842], callibrationData[1][1642:1842], \n",
    "                              p0=[1700, 20, 50])\n",
    "print(fitParam), print(np.sqrt(np.diag(fitCov)))\n",
    "\n",
    "chisq = Chi(callibrationData[1][1642:1842], Gaussian(callibrationData[0][1642:1842], *fitParam), \n",
    "            callibrationData[3][1642:1842])/7\n",
    "\n",
    "print(chisq)\n",
    "\n",
    "residuals = (callibrationData[1]-Gaussian(callibrationData[0], *fitParam))/callibrationData[3]\n",
    "\n",
    "#plt.scatter(callibrationData[0], callibrationData[1])\n",
    "#plt.plot(callibrationData[0], Gaussian(callibrationData[0], *fitParam), color='green')\n",
    "#plt.errorbar(callibrationData[0], callibrationData[1], yerr=callibrationData[3])\n",
    "\n",
    "fig, ax = plt.subplots(2, 1, sharey='row', tight_layout = True, gridspec_kw={'height_ratios':[4,1]}, figsize=(15,7))\n",
    "\n",
    "ax[0].plot(callibrationData[0][1542:1942], Gaussian(callibrationData[0][1542:1942], *fitParam),\n",
    "           label='Gaussian Fit', color='darkred', linewidth=3)\n",
    "ax[0].errorbar(callibrationData[0][1542:1942], callibrationData[1][1542:1942], fmt='o',\n",
    "               yerr=callibrationData[3][1542:1942], label='Data', color='darkseagreen')\n",
    "ax[1].errorbar(callibrationData[0][1542:1942], residuals[1542:1942], \n",
    "               fmt='o', yerr=callibrationData[3][1542:1942], color='darkseagreen')\n",
    "\n",
    "ax[1].set_xlabel('Channel Number')\n",
    "ax[1].set_ylabel('Studentized Residuals')\n",
    "ax[0].set_ylabel('Counts')\n",
    "ax[0].legend(loc='upper right', prop={'size':16})\n",
    "\n",
    "plt.tight_layout()"
   ]
  },
  {
   "cell_type": "code",
   "execution_count": 3,
   "id": "6724ec7d-2a2f-4f0a-b5db-fac4871158bb",
   "metadata": {},
   "outputs": [
    {
     "data": {
      "text/plain": [
       "Text(0, 0.5, 'Counts')"
      ]
     },
     "execution_count": 3,
     "metadata": {},
     "output_type": "execute_result"
    }
   ],
   "source": [
    "plt.errorbar(callibrationData[0], callibrationData[1], fmt='o',\n",
    "               yerr=callibrationData[3], label='Data', color='darkseagreen', ms=2, markeredgecolor='darkseagreen')\n",
    "plt.xlabel('Channel Number')\n",
    "plt.ylabel('Counts')"
   ]
  },
  {
   "cell_type": "code",
   "execution_count": 40,
   "id": "b5439c64-a2d4-4002-bf25-169441f6b11e",
   "metadata": {},
   "outputs": [
    {
     "name": "stdout",
     "output_type": "stream",
     "text": [
      "[1754.01058028   60.77129231    8.11739977]\n",
      "[0.67181609 0.6718161  0.07771525]\n",
      "[924.23103882 132.62853427  16.63515431]\n",
      "[3.97886748 4.2945523  0.42463696]\n",
      "[ 356.33098779   18.41589656 1569.84045664]\n",
      "[ 0.26477331  0.26477331 19.54572727]\n",
      "[1370.87170884   54.68385266   17.99606295]\n",
      "[0.59873027 0.59873027 0.17063644]\n"
     ]
    },
    {
     "data": {
      "text/plain": [
       "<matplotlib.collections.PathCollection at 0x7fecabc4c850>"
      ]
     },
     "execution_count": 40,
     "metadata": {},
     "output_type": "execute_result"
    }
   ],
   "source": [
    "def Gaussian(x, m, o, C):\n",
    "    return C*np.exp(-0.5*(((x-m)/o)**2))\n",
    "\n",
    "def Linear(x, a, b):\n",
    "    return a*x+b\n",
    "\n",
    "def Data(angle, number, source):\n",
    "    xData = mphys.data.load_chn('Cs-137 Calibration 000.chn')[0]\n",
    "    databox = [None]*10\n",
    "    i=0\n",
    "    while i <= 9:\n",
    "        databox[i] = mphys.data.load_chn('Compton/Angles/' + angle + '/' + number + ' Other Sources/' + source + \n",
    "                                         '/' + source + ' 00' + str(i) + '.Chn')[1]\n",
    "        i += 1\n",
    "    return [xData, np.average(databox, axis=0), np.std(databox, axis=0, ddof=1),\n",
    "                    np.std(databox, axis=0, ddof=1)/np.sqrt(10)]\n",
    "\n",
    "def Fit(input_databox, interval, guess):\n",
    "    param, cov = curve_fit(Gaussian, input_databox[0][guess-interval:guess+interval], \n",
    "                           input_databox[1][guess-interval:guess+interval], p0=[guess, 10, 10])\n",
    "    error = np.sqrt(np.diag(cov))\n",
    "    print(param), print(error)\n",
    "    return [param, error]\n",
    "\n",
    "#plt.scatter(Data('220', '00', 'Cs-137')[0], Data('220', '00', 'Cs-137')[1], color='green')\n",
    "#plt.scatter(Data('220', '04', 'Cs-137')[0], Data('220', '04', 'Cs-137')[1], color='blue')\n",
    "\n",
    "Cs_220_00 = Fit(Data('220', '00', 'Cs-137'), 300, 1742)\n",
    "Ba_220_00 = Fit(Data('220', '00', 'Ba-133'), 300, 850)\n",
    "Co_220_00 = Fit(Data('220', '00', 'Co-57'), 300, 375)\n",
    "Na_220_00 = Fit(Data('220', '00', 'Na-22'), 300, 1360)\n",
    "\n",
    "firstCallibration = curve_fit(Linear, [Cs_220_00[0][0], Ba_220_00[0][0], Co_220_00[0][0], Na_220_00[0][0]], \n",
    "                              [662.1, 80, 122, 511.0], \n",
    "                              sigma = [Cs_220_00[1][0], Ba_220_00[1][0], Co_220_00[1][0], Na_220_00[1][0]])\n",
    "\n",
    "plt.plot(xData, Linear(xData, *firstCallibration[0]))\n",
    "plt.scatter([Cs_220_00[0][0], Ba_220_00[0][0], Co_220_00[0][0], Na_220_00[0][0]], [662.1, 80, 122, 1274])"
   ]
  },
  {
   "cell_type": "code",
   "execution_count": null,
   "id": "99e0f154-2c6a-4297-a4b1-c752ab46dd45",
   "metadata": {},
   "outputs": [],
   "source": []
  },
  {
   "cell_type": "code",
   "execution_count": null,
   "id": "55cf363f-84da-4205-85e7-201cb0ddd1fe",
   "metadata": {},
   "outputs": [],
   "source": []
  }
 ],
 "metadata": {
  "kernelspec": {
   "display_name": "Python 3 (ipykernel)",
   "language": "python",
   "name": "python3"
  },
  "language_info": {
   "codemirror_mode": {
    "name": "ipython",
    "version": 3
   },
   "file_extension": ".py",
   "mimetype": "text/x-python",
   "name": "python",
   "nbconvert_exporter": "python",
   "pygments_lexer": "ipython3",
   "version": "3.9.7"
  }
 },
 "nbformat": 4,
 "nbformat_minor": 5
}
