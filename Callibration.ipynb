{
 "cells": [
  {
   "cell_type": "code",
   "execution_count": 1,
   "id": "23c474fc-eac0-4f93-8c14-702fdefabfc8",
   "metadata": {},
   "outputs": [],
   "source": [
    "import numpy as np\n",
    "import matplotlib.pyplot as plt\n",
    "%matplotlib inline\n",
    "import pandas as pd\n",
    "import spinmob as sm\n",
    "import mcphysics as mphys\n",
    "from scipy.optimize import curve_fit"
   ]
  },
  {
   "cell_type": "code",
   "execution_count": 15,
   "id": "fe211469-6323-4a87-92d1-0d40e594e734",
   "metadata": {},
   "outputs": [
    {
     "name": "stdout",
     "output_type": "stream",
     "text": [
      "[  0.3825181  -14.84090682]\n"
     ]
    }
   ],
   "source": [
    "#Adds together 1 hour of calibration data for a given source\n",
    "def Sum(source):\n",
    "    yData = [0]*2048\n",
    "    i=1\n",
    "    j=0\n",
    "    while i <= 12:\n",
    "        while j < 10:\n",
    "            yData += mphys.data.load_chn('Calibration/' + source + '/' + str(i) + '/' + source + '/' + source + \n",
    "                                         ' 00' + str(j) + '.Chn')[1]\n",
    "            j += 1\n",
    "        i += 1\n",
    "    return yData\n",
    "\n",
    "#Gaussian, where m=peak, o=variance, A=amplitude, B=Linear Coeff., C=Linear Offset\n",
    "def Gaussian(x, m, o, A, B, C):\n",
    "    return A*np.exp(-0.5*(((x-m)/o)**2)) + B*x + C\n",
    "\n",
    "#Function for linear curve-fit of peaks for each channel (i.e. for final callibration curve)\n",
    "def Linear(x, a, b):\n",
    "    return a*x+b\n",
    "\n",
    "#Curve fits a Gaussian to a given emitter's callibration data curve. The interval determines the width of data\n",
    "#which the Gaussian fits around. \n",
    "def Fit(input_databox, interval, guess):\n",
    "    xData = np.arange(0, 2048)\n",
    "    param, cov = curve_fit(Gaussian, xData[guess-interval:guess+interval], \n",
    "                           input_databox[guess-interval:guess+interval], p0=[guess, 10, 10, 10, 10])\n",
    "    error = np.sqrt(np.diag(cov))\n",
    "#    print(param), print(error)\n",
    "    return [param, error]\n",
    "\n",
    "def Chi(ydata, yFit):\n",
    "    return ((ydata-yFit)**2)/(ydata**2)\n",
    "\n",
    "Cs = Fit(Sum('Cs-137'), 300, 1742)\n",
    "Ba = Fit(Sum('Ba-133'), 300, 850)\n",
    "Co = Fit(Sum('Co-57'), 300, 375)\n",
    "Na = Fit(Sum('Na-22'), 300, 1360)\n",
    "\n",
    "yvalues = [662.1, 80, 122, 511.0]\n",
    "xvalues = [Cs[0][0], Ba[0][0], Co[0][0], Na[0][0]]\n",
    "errvalues = [Cs[1][0], Ba[1][0], Co[1][0], Na[1][0]]\n",
    "\n",
    "linearFit_par, linearFit_cov = curve_fit(Linear, xvalues, yvalues, sigma = errvalues)\n",
    "\n",
    "plt.plot(np.arange(0, 2048), Linear(np.arange(0, 2048), *linearFit_par))\n",
    "plt.scatter(xvalues, yvalues)\n",
    "print(linearFit_par)"
   ]
  },
  {
   "cell_type": "code",
   "execution_count": null,
   "id": "ee39317d-321d-48fe-9ca5-40a2bbab4748",
   "metadata": {},
   "outputs": [],
   "source": []
  }
 ],
 "metadata": {
  "kernelspec": {
   "display_name": "Python 3 (ipykernel)",
   "language": "python",
   "name": "python3"
  },
  "language_info": {
   "codemirror_mode": {
    "name": "ipython",
    "version": 3
   },
   "file_extension": ".py",
   "mimetype": "text/x-python",
   "name": "python",
   "nbconvert_exporter": "python",
   "pygments_lexer": "ipython3",
   "version": "3.9.7"
  }
 },
 "nbformat": 4,
 "nbformat_minor": 5
}
