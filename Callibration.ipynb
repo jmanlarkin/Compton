{
 "cells": [
  {
   "cell_type": "code",
   "execution_count": 14,
   "id": "23c474fc-eac0-4f93-8c14-702fdefabfc8",
   "metadata": {},
   "outputs": [],
   "source": [
    "import numpy as np\n",
    "import matplotlib.pyplot as plt\n",
    "%matplotlib inline\n",
    "import pandas as pd\n",
    "import spinmob as sm\n",
    "import mcphysics as mphys\n",
    "from scipy.optimize import curve_fit"
   ]
  },
  {
   "cell_type": "code",
   "execution_count": 15,
   "id": "fe211469-6323-4a87-92d1-0d40e594e734",
   "metadata": {},
   "outputs": [
    {
     "name": "stdout",
     "output_type": "stream",
     "text": [
      "1.2793916926792486\n",
      "57.70055825157549\n",
      "[  0.38537863 -14.14812295]\n",
      "[0.00538958 4.10098099]\n",
      "0.00044352314651371715\n",
      "[666.30541292 299.76420001 123.60612848 516.7369445 ]\n"
     ]
    },
    {
     "data": {
      "image/png": "[encoded data removed]",
      "text/plain": [
       "<Figure size 432x288 with 1 Axes>"
      ]
     },
     "metadata": {
      "needs_background": "light"
     },
     "output_type": "display_data"
    }
   ],
   "source": [
    "#Adds together 1 hour of calibration data for a given source\n",
    "def Sum(source):\n",
    "    yData = [0]*2048\n",
    "    i=1\n",
    "    j=0\n",
    "    while i <= 12:\n",
    "        while j < 10:\n",
    "            yData += mphys.data.load_chn('Calibration/' + source + '/' + str(i) + '/' + source + '/' + source + \n",
    "                                         ' 00' + str(j) + '.Chn')[1]\n",
    "            j += 1\n",
    "        i += 1\n",
    "    return yData\n",
    "\n",
    "#Gaussian, where m=peak, o=standard deviation, A=amplitude, B=Linear Coeff., C=Linear Offset\n",
    "def Gaussian(x, m, o, A, B, C):\n",
    "    return A*np.exp(-0.5*(((x-m)/o)**2)) + B*x + C\n",
    "\n",
    "#Function for linear curve-fit of peaks for each channel (i.e. for final callibration curve)\n",
    "def Linear(x, a, b):\n",
    "    return a*x+b\n",
    "\n",
    "#Curve fits a Gaussian to a given emitter's callibration data curve. The interval determines the width of data\n",
    "#which the Gaussian fits around. \n",
    "def Fit(input_databox, interval, guess):\n",
    "    xData = np.arange(0, 2048)\n",
    "    param, cov = curve_fit(Gaussian, xData[guess-interval:guess+interval], \n",
    "                           input_databox[guess-interval:guess+interval], p0=[guess, 10, 10, 10, 10])\n",
    "    error = np.sqrt(np.diag(cov))\n",
    "#    print(param), print(error)\n",
    "    return [param, error]\n",
    "\n",
    "def Chi(fitparam, input_databox, interval, guess):\n",
    "    index = np.arange(guess-interval, guess+interval)\n",
    "    fit = Gaussian(index, *fitparam)\n",
    "    out = ((input_databox[guess-interval: guess+interval]-fit)**2/(input_databox[guess-interval: guess+interval])**2)\n",
    "    return np.sum(out[out < 10**10])\n",
    "\n",
    "def ChiLinear(fitparam, x, y):\n",
    "    fit = Linear(x, *fitparam)\n",
    "    return np.sum((y-fit)**2/y**2)\n",
    "\n",
    "Cs = Fit(Sum('Cs-137'), 200, 1742)\n",
    "Ba = Fit(Sum('Ba-133'), 200, 850)\n",
    "Co = Fit(Sum('Co-57'), 200, 375)\n",
    "Na = Fit(Sum('Na-22'), 200, 1360)\n",
    "\n",
    "print(Chi(Cs[0], Sum('Cs-137'), 50, int(Cs[0][0])))\n",
    "\n",
    "yvalues = [662.1, 302.85, 122, 511.0]\n",
    "xvalues = [Cs[0][0], Ba[0][0], Co[0][0], Na[0][0]]\n",
    "errvalues = [Cs[0][1], Ba[0][1], Co[0][1], Na[0][1]]\n",
    "\n",
    "linearFit_par, linearFit_cov = curve_fit(Linear, xvalues, yvalues, sigma = errvalues)\n",
    "\n",
    "plt.plot(np.arange(0, 2048), Linear(np.arange(0, 2048), *linearFit_par))\n",
    "plt.scatter(xvalues, yvalues)\n",
    "print(Cs[0][1])\n",
    "print(linearFit_par), print(np.sqrt(np.diag(linearFit_cov)))\n",
    "print(ChiLinear(linearFit_par, np.asarray(xvalues), np.asarray(yvalues)))\n",
    "print(Linear(np.asarray(xvalues), *linearFit_par))"
   ]
  },
  {
   "cell_type": "code",
   "execution_count": null,
   "id": "ee39317d-321d-48fe-9ca5-40a2bbab4748",
   "metadata": {},
   "outputs": [],
   "source": [
    "residuals = \n",
    "\n",
    "fig, ax = plt.subplots(2, 1, sharey='row', tight_layout = True, gridspec_kw={'height_ratios':[4,1]}, figsize=(15,7))\n",
    "\n",
    "ax[0].plot(callibrationData[0][1542:1942], Gaussian(callibrationData[0][1542:1942], *fitParam),\n",
    "           label='Gaussian Fit', color='darkred', linewidth=3)\n",
    "ax[0].errorbar(callibrationData[0][1542:1942], callibrationData[1][1542:1942], fmt='o',\n",
    "               yerr=callibrationData[3][1542:1942], label='Data', color='darkseagreen')\n",
    "ax[1].errorbar(callibrationData[0][1542:1942], residuals[1542:1942], \n",
    "               fmt='o', yerr=callibrationData[3][1542:1942], color='darkseagreen')\n",
    "\n",
    "ax[1].set_xlabel('Channel Number')\n",
    "ax[1].set_ylabel('Studentized Residuals')\n",
    "ax[0].set_ylabel('Counts')\n",
    "ax[0].legend(loc='upper right', prop={'size':16})\n",
    "\n",
    "plt.tight_layout()"
   ]
  },
  {
   "cell_type": "code",
   "execution_count": null,
   "id": "31cc02a7-1827-4835-aa0f-7c3e7a832ffd",
   "metadata": {},
   "outputs": [],
   "source": []
  }
 ],
 "metadata": {
  "kernelspec": {
   "display_name": "Python 3 (ipykernel)",
   "language": "python",
   "name": "python3"
  },
  "language_info": {
   "codemirror_mode": {
    "name": "ipython",
    "version": 3
   },
   "file_extension": ".py",
   "mimetype": "text/x-python",
   "name": "python",
   "nbconvert_exporter": "python",
   "pygments_lexer": "ipython3",
   "version": "3.9.7"
  }
 },
 "nbformat": 4,
 "nbformat_minor": 5
}
