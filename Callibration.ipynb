{
 "cells": [
  {
   "cell_type": "code",
   "execution_count": 2,
   "id": "23c474fc-eac0-4f93-8c14-702fdefabfc8",
   "metadata": {},
   "outputs": [],
   "source": [
    "import numpy as np\n",
    "import matplotlib.pyplot as plt\n",
    "%matplotlib inline\n",
    "import pandas as pd\n",
    "import spinmob as sm\n",
    "import mcphysics as mphys\n",
    "from scipy.optimize import curve_fit"
   ]
  },
  {
   "cell_type": "code",
   "execution_count": 25,
   "id": "fe211469-6323-4a87-92d1-0d40e594e734",
   "metadata": {},
   "outputs": [
    {
     "name": "stdout",
     "output_type": "stream",
     "text": [
      "[ 1.76481351e+03  5.75377047e+01  7.67732553e+01 -1.41975253e-02\n",
      "  2.94022184e+01]\n",
      "[5.12537951e-01 5.74604184e-01 6.02446800e-01 1.16206404e-03\n",
      " 2.01423351e+00]\n",
      "[8.25412764e+02 2.05884694e+01 3.94520218e+01 7.13101264e-02\n",
      " 3.04470033e+01]\n",
      "[ 7.86752497  8.14786592 13.17882783  0.01519703 13.31141471]\n",
      "[ 3.57295177e+02  1.76155277e+01  1.49414650e+04 -1.84630705e+00\n",
      "  1.30045024e+03]\n",
      "[  0.19099991   0.19665546 141.59862258   0.15101154  63.72125323]\n",
      "[ 1.37712732e+03  4.89389886e+01  1.67947261e+02 -2.16615652e-02\n",
      "  4.41815620e+01]\n",
      "[3.38231206e-01 3.70758284e-01 1.02323823e+00 1.80894187e-03\n",
      " 2.46827787e+00]\n",
      "57.53770470594125\n",
      "[  0.38255271 -14.77557581]\n",
      "[0.00096385 0.86160325]\n"
     ]
    },
    {
     "data": {
      "text/plain": [
       "(None, None)"
      ]
     },
     "execution_count": 25,
     "metadata": {},
     "output_type": "execute_result"
    }
   ],
   "source": [
    "#Adds together 1 hour of calibration data for a given source\n",
    "def Sum(source):\n",
    "    yData = [0]*2048\n",
    "    i=1\n",
    "    j=0\n",
    "    while i <= 12:\n",
    "        while j < 10:\n",
    "            yData += mphys.data.load_chn('Calibration/' + source + '/' + str(i) + '/' + source + '/' + source + \n",
    "                                         ' 00' + str(j) + '.Chn')[1]\n",
    "            j += 1\n",
    "        i += 1\n",
    "    return yData\n",
    "\n",
    "#Gaussian, where m=peak, o=standard deviation, A=amplitude, B=Linear Coeff., C=Linear Offset\n",
    "def Gaussian(x, m, o, A, B, C):\n",
    "    return A*np.exp(-0.5*(((x-m)/o)**2)) + B*x + C\n",
    "\n",
    "#Function for linear curve-fit of peaks for each channel (i.e. for final callibration curve)\n",
    "def Linear(x, a, b):\n",
    "    return a*x+b\n",
    "\n",
    "#Curve fits a Gaussian to a given emitter's callibration data curve. The interval determines the width of data\n",
    "#which the Gaussian fits around. \n",
    "def Fit(input_databox, interval, guess):\n",
    "    xData = np.arange(0, 2048)\n",
    "    param, cov = curve_fit(Gaussian, xData[guess-interval:guess+interval], \n",
    "                           input_databox[guess-interval:guess+interval], p0=[guess, 10, 10, 10, 10])\n",
    "    error = np.sqrt(np.diag(cov))\n",
    "    print(param), print(error)\n",
    "    return [param, error]\n",
    "\n",
    "def Chi(ydata, yFit):\n",
    "    return ((ydata-yFit)**2)/(ydata**2)\n",
    "\n",
    "Cs = Fit(Sum('Cs-137'), 300, 1742)\n",
    "Ba = Fit(Sum('Ba-133'), 300, 850)\n",
    "Co = Fit(Sum('Co-57'), 300, 375)\n",
    "Na = Fit(Sum('Na-22'), 300, 1360)\n",
    "\n",
    "yvalues = [662.1, 302.85, 122, 511.0]\n",
    "xvalues = [Cs[0][0], Ba[0][0], Co[0][0], Na[0][0]]\n",
    "errvalues = [Cs[1][0], Ba[1][0], Co[1][0], Na[1][0]]\n",
    "\n",
    "linearFit_par, linearFit_cov = curve_fit(Linear, xvalues, yvalues, sigma = errvalues)\n",
    "\n",
    "plt.plot(np.arange(0, 2048), Linear(np.arange(0, 2048), *linearFit_par))\n",
    "plt.scatter(xvalues, yvalues)\n",
    "print(Cs[0][1])\n",
    "print(linearFit_par), print(np.sqrt(np.diag(linearFit_cov)))"
   ]
  },
  {
   "cell_type": "code",
   "execution_count": null,
   "id": "ee39317d-321d-48fe-9ca5-40a2bbab4748",
   "metadata": {},
   "outputs": [],
   "source": []
  },
  {
   "cell_type": "code",
   "execution_count": null,
   "id": "31cc02a7-1827-4835-aa0f-7c3e7a832ffd",
   "metadata": {},
   "outputs": [],
   "source": []
  }
 ],
 "metadata": {
  "kernelspec": {
   "display_name": "Python 3 (ipykernel)",
   "language": "python",
   "name": "python3"
  },
  "language_info": {
   "codemirror_mode": {
    "name": "ipython",
    "version": 3
   },
   "file_extension": ".py",
   "mimetype": "text/x-python",
   "name": "python",
   "nbconvert_exporter": "python",
   "pygments_lexer": "ipython3",
   "version": "3.9.7"
  }
 },
 "nbformat": 4,
 "nbformat_minor": 5
}
