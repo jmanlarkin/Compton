{
 "cells": [
  {
   "cell_type": "code",
   "execution_count": 1,
   "id": "23c474fc-eac0-4f93-8c14-702fdefabfc8",
   "metadata": {},
   "outputs": [],
   "source": [
    "import numpy as np\n",
    "import matplotlib.pyplot as plt\n",
    "%matplotlib inline\n",
    "import pandas as pd\n",
    "import spinmob as sm\n",
    "import mcphysics as mphys\n",
    "from scipy.optimize import curve_fit"
   ]
  },
  {
   "cell_type": "code",
   "execution_count": 19,
   "id": "a6b77809-fcec-4a6f-8573-f57c537c4900",
   "metadata": {},
   "outputs": [
    {
     "name": "stdout",
     "output_type": "stream",
     "text": [
      "[0 0 0 ... 0 0 0]\n"
     ]
    }
   ],
   "source": [
    "#Adds together 1 hour of calibration data for a given source\n",
    "def Sum(source):\n",
    "    yData = [0]*2048\n",
    "    i=1\n",
    "    j=0\n",
    "    while i <= 12:\n",
    "        while j < 10:\n",
    "            yData += mphys.data.load_chn('Calibration/' + source + '/' + str(i) + '/' + source + '/' + source + \n",
    "                                         ' 00' + str(j) + '.Chn')[1]\n",
    "            j += 1\n",
    "        i += 1\n",
    "    return yData\n",
    "\n",
    "\n",
    "print(Sum('Cs-137'))"
   ]
  },
  {
   "cell_type": "code",
   "execution_count": null,
   "id": "ee39317d-321d-48fe-9ca5-40a2bbab4748",
   "metadata": {},
   "outputs": [],
   "source": []
  }
 ],
 "metadata": {
  "kernelspec": {
   "display_name": "Python 3 (ipykernel)",
   "language": "python",
   "name": "python3"
  },
  "language_info": {
   "codemirror_mode": {
    "name": "ipython",
    "version": 3
   },
   "file_extension": ".py",
   "mimetype": "text/x-python",
   "name": "python",
   "nbconvert_exporter": "python",
   "pygments_lexer": "ipython3",
   "version": "3.9.7"
  }
 },
 "nbformat": 4,
 "nbformat_minor": 5
}
